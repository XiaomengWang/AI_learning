{
 "cells": [
  {
   "cell_type": "markdown",
   "metadata": {},
   "source": [
    "## 1. 实现`print`函数\n",
    "定义一个函数`print_string`，返回一个字符串。  \n",
    "`print_string`函数支持输入多个参数，每个参数间使用参数`sep`(默认一个空格)的字符进行连接，并且最后还要添加一个`end`(默认一个换行)参数的字符。  \n",
    "比如\n",
    "- `print_string('This is a test')` 返回`This is a test\\n`  \n",
    "- `print_string('This', 'is', 'a', 'test')` 返回`This is a test\\n`\n",
    "- `print_string('This', 'is', 'a', 'test', sep = '-')` 返回`This-is-a-test\\n`\n",
    "- `print_string('This', 'is', 'a', 'test', ',', 'Yes', sep = '_', end = '.')` 返回`This_is_a_test_,_Yes.`"
   ]
  },
  {
   "cell_type": "code",
   "execution_count": 2,
   "metadata": {},
   "outputs": [
    {
     "name": "stdout",
     "output_type": "stream",
     "text": [
      "This_is_a_test_,_Yes.\n"
     ]
    }
   ],
   "source": [
    "# your code here\n",
    "def print_string(*str_init,sep=\" \",end = \"\\n\"):\n",
    "    str_trans=\"\"\n",
    "    for i in range(len(str_init)):\n",
    "        if i < len(str_init) -1:\n",
    "            str_trans += str_init[i] + sep\n",
    "        else:\n",
    "            str_trans += str_init[i]\n",
    "    str_trans += end\n",
    "    return str_trans\n",
    "#test\n",
    "cc = print_string('This', 'is', 'a', 'test', ',', 'Yes', sep = '_', end = '.')\n",
    "print(cc)  "
   ]
  },
  {
   "cell_type": "markdown",
   "metadata": {},
   "source": [
    "## 2. 打印斐波那契数列\n",
    "以三种方式打印波那契数列    \n",
    "给定一个数值n，将前n项的波那契数列打印出来"
   ]
  },
  {
   "cell_type": "code",
   "execution_count": 8,
   "metadata": {},
   "outputs": [
    {
     "name": "stdout",
     "output_type": "stream",
     "text": [
      "8\n",
      "8\n"
     ]
    },
    {
     "data": {
      "text/plain": [
       "8"
      ]
     },
     "execution_count": 8,
     "metadata": {},
     "output_type": "execute_result"
    }
   ],
   "source": [
    "# your code here\n",
    "#斐波那契数，通常用 F(n) 表示，形成的序列称为斐波那契数列。该数列由 0 和 1 开始，后面的每一项数字都是前面两项数字的和\n",
    "#使用列表\n",
    "def fib1(n):\n",
    "    A = [0,1]\n",
    "    for i in range(n-1):\n",
    "        A.append(A[-1]+A[-2])\n",
    "    return A[n]\n",
    "print(fib1(6))\n",
    "#使用递归函数\n",
    "def fib2(n):\n",
    "    if n == 0 or n == 1:\n",
    "        return n\n",
    "    else:\n",
    "        return fib2(n-1) + fib2(n-2)\n",
    "print(fib2(6))\n",
    "\n",
    "#第三种方法暂时没有想到\n",
    "def fib3(n):\n",
    "    a , b = 0 , 1\n",
    "    for i in range(n):\n",
    "        a , b = b , a+b\n",
    "    return a\n",
    "fib3(6)"
   ]
  },
  {
   "cell_type": "markdown",
   "metadata": {},
   "source": [
    "不会使用notebook，使用作业.PDF文件查看作业，上传.py文件"
   ]
  }
 ],
 "metadata": {
  "kernelspec": {
   "display_name": "Python 3",
   "language": "python",
   "name": "python3"
  },
  "language_info": {
   "codemirror_mode": {
    "name": "ipython",
    "version": 3
   },
   "file_extension": ".py",
   "mimetype": "text/x-python",
   "name": "python",
   "nbconvert_exporter": "python",
   "pygments_lexer": "ipython3",
   "version": "3.6.5"
  }
 },
 "nbformat": 4,
 "nbformat_minor": 4
}
